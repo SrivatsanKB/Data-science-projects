{
 "cells": [
  {
   "cell_type": "code",
   "execution_count": 23,
   "id": "0f5849b0",
   "metadata": {},
   "outputs": [],
   "source": [
    "import requests"
   ]
  },
  {
   "cell_type": "code",
   "execution_count": 24,
   "id": "6133aaad",
   "metadata": {},
   "outputs": [],
   "source": [
    "from bs4 import BeautifulSoup"
   ]
  },
  {
   "cell_type": "code",
   "execution_count": 25,
   "id": "3926420c",
   "metadata": {},
   "outputs": [],
   "source": [
    "from tqdm import tqdm"
   ]
  },
  {
   "cell_type": "code",
   "execution_count": 26,
   "id": "8929476c",
   "metadata": {},
   "outputs": [],
   "source": [
    "import pandas as pd"
   ]
  },
  {
   "cell_type": "code",
   "execution_count": 27,
   "id": "bd75cda2",
   "metadata": {},
   "outputs": [
    {
     "name": "stderr",
     "output_type": "stream",
     "text": [
      "100%|██████████████████████████████████████████████████████████████████████████████████| 50/50 [00:56<00:00,  1.13s/it]\n"
     ]
    }
   ],
   "source": [
    "data=[]\n",
    "for i in tqdm(range(1,51)):\n",
    "    link='https://books.toscrape.com/catalogue/page-'+str(i)+'.html'\n",
    "    res=requests.get(link)\n",
    "    soup=BeautifulSoup(res.text,'html.parser')\n",
    "    for sp in soup.find_all('li',class_=\"col-xs-6 col-sm-4 col-md-3 col-lg-3\"):\n",
    "        Booklink=\"https://books.toscrape.com/catalogue/\"+sp.find('a').get('href')\n",
    "        Picturelink='https://books.toscrape.com/'+str(sp.find_all('img')[-1].get('src'))\n",
    "        Title=sp.find_all('a')[-1].get('title')\n",
    "        Price=sp.find('p',class_='price_color').text[2:]\n",
    "        Rating=sp.find_all('p')[0].get('class')[1]\n",
    "        Stock=sp.find('p',class_='instock availability').text.strip()\n",
    "        data.append([Booklink,Picturelink,Title,Price,Rating,Stock])"
   ]
  },
  {
   "cell_type": "code",
   "execution_count": 28,
   "id": "6d09c718",
   "metadata": {},
   "outputs": [],
   "source": [
    "df=pd.DataFrame(data,columns=['Booklink','Picturelink','Title','Price','Rating','Stock'])"
   ]
  },
  {
   "cell_type": "code",
   "execution_count": 29,
   "id": "94cd98ca",
   "metadata": {},
   "outputs": [],
   "source": [
    "df.to_csv('BookScrapper.csv',index=False)"
   ]
  },
  {
   "cell_type": "code",
   "execution_count": 30,
   "id": "c120c8fe",
   "metadata": {},
   "outputs": [],
   "source": [
    "df1=pd.read_csv('BookScrapper.csv')"
   ]
  },
  {
   "cell_type": "code",
   "execution_count": 31,
   "id": "86cd14ba",
   "metadata": {},
   "outputs": [
    {
     "data": {
      "text/html": [
       "<div>\n",
       "<style scoped>\n",
       "    .dataframe tbody tr th:only-of-type {\n",
       "        vertical-align: middle;\n",
       "    }\n",
       "\n",
       "    .dataframe tbody tr th {\n",
       "        vertical-align: top;\n",
       "    }\n",
       "\n",
       "    .dataframe thead th {\n",
       "        text-align: right;\n",
       "    }\n",
       "</style>\n",
       "<table border=\"1\" class=\"dataframe\">\n",
       "  <thead>\n",
       "    <tr style=\"text-align: right;\">\n",
       "      <th></th>\n",
       "      <th>Booklink</th>\n",
       "      <th>Picturelink</th>\n",
       "      <th>Title</th>\n",
       "      <th>Price</th>\n",
       "      <th>Rating</th>\n",
       "      <th>Stock</th>\n",
       "    </tr>\n",
       "  </thead>\n",
       "  <tbody>\n",
       "    <tr>\n",
       "      <th>0</th>\n",
       "      <td>https://books.toscrape.com/catalogue/a-light-i...</td>\n",
       "      <td>https://books.toscrape.com/../media/cache/2c/d...</td>\n",
       "      <td>A Light in the Attic</td>\n",
       "      <td>51.77</td>\n",
       "      <td>Three</td>\n",
       "      <td>In stock</td>\n",
       "    </tr>\n",
       "    <tr>\n",
       "      <th>1</th>\n",
       "      <td>https://books.toscrape.com/catalogue/tipping-t...</td>\n",
       "      <td>https://books.toscrape.com/../media/cache/26/0...</td>\n",
       "      <td>Tipping the Velvet</td>\n",
       "      <td>53.74</td>\n",
       "      <td>One</td>\n",
       "      <td>In stock</td>\n",
       "    </tr>\n",
       "    <tr>\n",
       "      <th>2</th>\n",
       "      <td>https://books.toscrape.com/catalogue/soumissio...</td>\n",
       "      <td>https://books.toscrape.com/../media/cache/3e/e...</td>\n",
       "      <td>Soumission</td>\n",
       "      <td>50.10</td>\n",
       "      <td>One</td>\n",
       "      <td>In stock</td>\n",
       "    </tr>\n",
       "    <tr>\n",
       "      <th>3</th>\n",
       "      <td>https://books.toscrape.com/catalogue/sharp-obj...</td>\n",
       "      <td>https://books.toscrape.com/../media/cache/32/5...</td>\n",
       "      <td>Sharp Objects</td>\n",
       "      <td>47.82</td>\n",
       "      <td>Four</td>\n",
       "      <td>In stock</td>\n",
       "    </tr>\n",
       "    <tr>\n",
       "      <th>4</th>\n",
       "      <td>https://books.toscrape.com/catalogue/sapiens-a...</td>\n",
       "      <td>https://books.toscrape.com/../media/cache/be/a...</td>\n",
       "      <td>Sapiens: A Brief History of Humankind</td>\n",
       "      <td>54.23</td>\n",
       "      <td>Five</td>\n",
       "      <td>In stock</td>\n",
       "    </tr>\n",
       "    <tr>\n",
       "      <th>...</th>\n",
       "      <td>...</td>\n",
       "      <td>...</td>\n",
       "      <td>...</td>\n",
       "      <td>...</td>\n",
       "      <td>...</td>\n",
       "      <td>...</td>\n",
       "    </tr>\n",
       "    <tr>\n",
       "      <th>995</th>\n",
       "      <td>https://books.toscrape.com/catalogue/alice-in-...</td>\n",
       "      <td>https://books.toscrape.com/../media/cache/96/e...</td>\n",
       "      <td>Alice in Wonderland (Alice's Adventures in Won...</td>\n",
       "      <td>55.53</td>\n",
       "      <td>One</td>\n",
       "      <td>In stock</td>\n",
       "    </tr>\n",
       "    <tr>\n",
       "      <th>996</th>\n",
       "      <td>https://books.toscrape.com/catalogue/ajin-demi...</td>\n",
       "      <td>https://books.toscrape.com/../media/cache/09/7...</td>\n",
       "      <td>Ajin: Demi-Human, Volume 1 (Ajin: Demi-Human #1)</td>\n",
       "      <td>57.06</td>\n",
       "      <td>Four</td>\n",
       "      <td>In stock</td>\n",
       "    </tr>\n",
       "    <tr>\n",
       "      <th>997</th>\n",
       "      <td>https://books.toscrape.com/catalogue/a-spys-de...</td>\n",
       "      <td>https://books.toscrape.com/../media/cache/1b/5...</td>\n",
       "      <td>A Spy's Devotion (The Regency Spies of London #1)</td>\n",
       "      <td>16.97</td>\n",
       "      <td>Five</td>\n",
       "      <td>In stock</td>\n",
       "    </tr>\n",
       "    <tr>\n",
       "      <th>998</th>\n",
       "      <td>https://books.toscrape.com/catalogue/1st-to-di...</td>\n",
       "      <td>https://books.toscrape.com/../media/cache/2b/4...</td>\n",
       "      <td>1st to Die (Women's Murder Club #1)</td>\n",
       "      <td>53.98</td>\n",
       "      <td>One</td>\n",
       "      <td>In stock</td>\n",
       "    </tr>\n",
       "    <tr>\n",
       "      <th>999</th>\n",
       "      <td>https://books.toscrape.com/catalogue/1000-plac...</td>\n",
       "      <td>https://books.toscrape.com/../media/cache/d7/0...</td>\n",
       "      <td>1,000 Places to See Before You Die</td>\n",
       "      <td>26.08</td>\n",
       "      <td>Five</td>\n",
       "      <td>In stock</td>\n",
       "    </tr>\n",
       "  </tbody>\n",
       "</table>\n",
       "<p>1000 rows × 6 columns</p>\n",
       "</div>"
      ],
      "text/plain": [
       "                                              Booklink  \\\n",
       "0    https://books.toscrape.com/catalogue/a-light-i...   \n",
       "1    https://books.toscrape.com/catalogue/tipping-t...   \n",
       "2    https://books.toscrape.com/catalogue/soumissio...   \n",
       "3    https://books.toscrape.com/catalogue/sharp-obj...   \n",
       "4    https://books.toscrape.com/catalogue/sapiens-a...   \n",
       "..                                                 ...   \n",
       "995  https://books.toscrape.com/catalogue/alice-in-...   \n",
       "996  https://books.toscrape.com/catalogue/ajin-demi...   \n",
       "997  https://books.toscrape.com/catalogue/a-spys-de...   \n",
       "998  https://books.toscrape.com/catalogue/1st-to-di...   \n",
       "999  https://books.toscrape.com/catalogue/1000-plac...   \n",
       "\n",
       "                                           Picturelink  \\\n",
       "0    https://books.toscrape.com/../media/cache/2c/d...   \n",
       "1    https://books.toscrape.com/../media/cache/26/0...   \n",
       "2    https://books.toscrape.com/../media/cache/3e/e...   \n",
       "3    https://books.toscrape.com/../media/cache/32/5...   \n",
       "4    https://books.toscrape.com/../media/cache/be/a...   \n",
       "..                                                 ...   \n",
       "995  https://books.toscrape.com/../media/cache/96/e...   \n",
       "996  https://books.toscrape.com/../media/cache/09/7...   \n",
       "997  https://books.toscrape.com/../media/cache/1b/5...   \n",
       "998  https://books.toscrape.com/../media/cache/2b/4...   \n",
       "999  https://books.toscrape.com/../media/cache/d7/0...   \n",
       "\n",
       "                                                 Title  Price Rating     Stock  \n",
       "0                                 A Light in the Attic  51.77  Three  In stock  \n",
       "1                                   Tipping the Velvet  53.74    One  In stock  \n",
       "2                                           Soumission  50.10    One  In stock  \n",
       "3                                        Sharp Objects  47.82   Four  In stock  \n",
       "4                Sapiens: A Brief History of Humankind  54.23   Five  In stock  \n",
       "..                                                 ...    ...    ...       ...  \n",
       "995  Alice in Wonderland (Alice's Adventures in Won...  55.53    One  In stock  \n",
       "996   Ajin: Demi-Human, Volume 1 (Ajin: Demi-Human #1)  57.06   Four  In stock  \n",
       "997  A Spy's Devotion (The Regency Spies of London #1)  16.97   Five  In stock  \n",
       "998                1st to Die (Women's Murder Club #1)  53.98    One  In stock  \n",
       "999                 1,000 Places to See Before You Die  26.08   Five  In stock  \n",
       "\n",
       "[1000 rows x 6 columns]"
      ]
     },
     "execution_count": 31,
     "metadata": {},
     "output_type": "execute_result"
    }
   ],
   "source": [
    "df1"
   ]
  },
  {
   "cell_type": "code",
   "execution_count": 32,
   "id": "e66f55c3",
   "metadata": {},
   "outputs": [
    {
     "data": {
      "text/plain": [
       "Booklink       0\n",
       "Picturelink    0\n",
       "Title          0\n",
       "Price          0\n",
       "Rating         0\n",
       "Stock          0\n",
       "dtype: int64"
      ]
     },
     "execution_count": 32,
     "metadata": {},
     "output_type": "execute_result"
    }
   ],
   "source": [
    "df1.isnull().sum()"
   ]
  },
  {
   "cell_type": "code",
   "execution_count": 33,
   "id": "96adf728",
   "metadata": {},
   "outputs": [
    {
     "data": {
      "text/plain": [
       "array(['Three', 'One', 'Four', 'Five', 'Two'], dtype=object)"
      ]
     },
     "execution_count": 33,
     "metadata": {},
     "output_type": "execute_result"
    }
   ],
   "source": [
    "df1['Rating'].unique()"
   ]
  },
  {
   "cell_type": "code",
   "execution_count": 34,
   "id": "f92d2be3",
   "metadata": {},
   "outputs": [
    {
     "data": {
      "text/plain": [
       "203"
      ]
     },
     "execution_count": 34,
     "metadata": {},
     "output_type": "execute_result"
    }
   ],
   "source": [
    "(df1['Rating']=='Three').sum()"
   ]
  },
  {
   "cell_type": "code",
   "execution_count": 35,
   "id": "fe040769",
   "metadata": {
    "scrolled": true
   },
   "outputs": [
    {
     "data": {
      "text/plain": [
       "226"
      ]
     },
     "execution_count": 35,
     "metadata": {},
     "output_type": "execute_result"
    }
   ],
   "source": [
    "len(df1[df1['Rating']=='One'])"
   ]
  },
  {
   "cell_type": "code",
   "execution_count": 36,
   "id": "2e2845a4",
   "metadata": {},
   "outputs": [
    {
     "data": {
      "text/plain": [
       "196"
      ]
     },
     "execution_count": 36,
     "metadata": {},
     "output_type": "execute_result"
    }
   ],
   "source": [
    "len(df1[df1['Rating']=='Two'])"
   ]
  },
  {
   "cell_type": "code",
   "execution_count": 37,
   "id": "02ce797a",
   "metadata": {},
   "outputs": [
    {
     "data": {
      "text/plain": [
       "203"
      ]
     },
     "execution_count": 37,
     "metadata": {},
     "output_type": "execute_result"
    }
   ],
   "source": [
    "len(df1[df1['Rating']=='Three'])"
   ]
  },
  {
   "cell_type": "code",
   "execution_count": 38,
   "id": "b90d1978",
   "metadata": {},
   "outputs": [
    {
     "data": {
      "text/plain": [
       "179"
      ]
     },
     "execution_count": 38,
     "metadata": {},
     "output_type": "execute_result"
    }
   ],
   "source": [
    "len(df1[df1['Rating']=='Four'])"
   ]
  },
  {
   "cell_type": "code",
   "execution_count": 39,
   "id": "acfc9682",
   "metadata": {},
   "outputs": [
    {
     "data": {
      "text/plain": [
       "196"
      ]
     },
     "execution_count": 39,
     "metadata": {},
     "output_type": "execute_result"
    }
   ],
   "source": [
    "len(df1[df1['Rating']=='Five'])"
   ]
  },
  {
   "cell_type": "code",
   "execution_count": 40,
   "id": "d2aefad6",
   "metadata": {},
   "outputs": [
    {
     "data": {
      "text/plain": [
       "59.99"
      ]
     },
     "execution_count": 40,
     "metadata": {},
     "output_type": "execute_result"
    }
   ],
   "source": [
    "max(df1['Price'])"
   ]
  },
  {
   "cell_type": "code",
   "execution_count": 41,
   "id": "7537ed9f",
   "metadata": {},
   "outputs": [
    {
     "data": {
      "text/plain": [
       "10.0"
      ]
     },
     "execution_count": 41,
     "metadata": {},
     "output_type": "execute_result"
    }
   ],
   "source": [
    "min(df1[\"Price\"])"
   ]
  },
  {
   "cell_type": "code",
   "execution_count": 42,
   "id": "ad31d861",
   "metadata": {},
   "outputs": [
    {
     "data": {
      "text/plain": [
       "198"
      ]
     },
     "execution_count": 42,
     "metadata": {},
     "output_type": "execute_result"
    }
   ],
   "source": [
    "(df1['Price']>50).sum()"
   ]
  },
  {
   "cell_type": "code",
   "execution_count": 43,
   "id": "ebd543a0",
   "metadata": {},
   "outputs": [
    {
     "data": {
      "text/plain": [
       "802"
      ]
     },
     "execution_count": 43,
     "metadata": {},
     "output_type": "execute_result"
    }
   ],
   "source": [
    "(df1['Price']<50).sum()"
   ]
  },
  {
   "cell_type": "code",
   "execution_count": 44,
   "id": "6559bbb2",
   "metadata": {},
   "outputs": [
    {
     "data": {
      "text/html": [
       "<div>\n",
       "<style scoped>\n",
       "    .dataframe tbody tr th:only-of-type {\n",
       "        vertical-align: middle;\n",
       "    }\n",
       "\n",
       "    .dataframe tbody tr th {\n",
       "        vertical-align: top;\n",
       "    }\n",
       "\n",
       "    .dataframe thead th {\n",
       "        text-align: right;\n",
       "    }\n",
       "</style>\n",
       "<table border=\"1\" class=\"dataframe\">\n",
       "  <thead>\n",
       "    <tr style=\"text-align: right;\">\n",
       "      <th></th>\n",
       "      <th>Booklink</th>\n",
       "      <th>Picturelink</th>\n",
       "      <th>Title</th>\n",
       "      <th>Price</th>\n",
       "      <th>Rating</th>\n",
       "      <th>Stock</th>\n",
       "    </tr>\n",
       "  </thead>\n",
       "  <tbody>\n",
       "    <tr>\n",
       "      <th>638</th>\n",
       "      <td>https://books.toscrape.com/catalogue/an-abunda...</td>\n",
       "      <td>https://books.toscrape.com/../media/cache/ed/4...</td>\n",
       "      <td>An Abundance of Katherines</td>\n",
       "      <td>10.0</td>\n",
       "      <td>Five</td>\n",
       "      <td>In stock</td>\n",
       "    </tr>\n",
       "  </tbody>\n",
       "</table>\n",
       "</div>"
      ],
      "text/plain": [
       "                                              Booklink  \\\n",
       "638  https://books.toscrape.com/catalogue/an-abunda...   \n",
       "\n",
       "                                           Picturelink  \\\n",
       "638  https://books.toscrape.com/../media/cache/ed/4...   \n",
       "\n",
       "                          Title  Price Rating     Stock  \n",
       "638  An Abundance of Katherines   10.0   Five  In stock  "
      ]
     },
     "execution_count": 44,
     "metadata": {},
     "output_type": "execute_result"
    }
   ],
   "source": [
    "df1[df1['Price']==10.0]"
   ]
  }
 ],
 "metadata": {
  "kernelspec": {
   "display_name": "Python 3 (ipykernel)",
   "language": "python",
   "name": "python3"
  },
  "language_info": {
   "codemirror_mode": {
    "name": "ipython",
    "version": 3
   },
   "file_extension": ".py",
   "mimetype": "text/x-python",
   "name": "python",
   "nbconvert_exporter": "python",
   "pygments_lexer": "ipython3",
   "version": "3.10.9"
  }
 },
 "nbformat": 4,
 "nbformat_minor": 5
}
